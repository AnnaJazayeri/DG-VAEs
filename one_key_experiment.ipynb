{
 "cells": [
  {
   "cell_type": "code",
   "execution_count": null,
   "metadata": {},
   "outputs": [],
   "source": [
    "from experiment import init_config\n",
    "from load_and_test_models import display_args_status, clear_output\n",
    "from args_settings import select_args_specifications"
   ]
  },
  {
   "cell_type": "code",
   "execution_count": null,
   "metadata": {},
   "outputs": [],
   "source": [
    "def one_key_experiment(args_specifications):\n",
    "    for args_spcf in args_specifications:\n",
    "        args = init_config(args_spcf)\n",
    "        complete, active, exist, log_path, create_time, modify_time = display_args_status(args)\n",
    "        if not active and not complete:\n",
    "            cmd = f\"python experiment.py {' '.join(args_spcf)}\" \n",
    "            !$cmd\n",
    "            \n",
    "            import time\n",
    "            time.sleep(30)\n",
    "            clear_output()"
   ]
  },
  {
   "cell_type": "code",
   "execution_count": null,
   "metadata": {},
   "outputs": [],
   "source": [
    "if __name__ == \"__main__\":\n",
    "    one_key_experiment(\n",
    "        select_args_specifications(\n",
    "            [\"restriction_or_weakened_kl\",\n",
    "             \"strategy_or_structure\",\n",
    "             \"kl_beta\",\"bn_gamma\",\"fb_target_kl\",\"agg_size\",\"vmf_kappa\"],\n",
    "            only_small=False\n",
    "        )\n",
    "    )"
   ]
  }
 ],
 "metadata": {
  "kernelspec": {
   "display_name": "Python 3 (ipykernel)",
   "language": "python",
   "name": "python3"
  },
  "language_info": {
   "codemirror_mode": {
    "name": "ipython",
    "version": 3
   },
   "file_extension": ".py",
   "mimetype": "text/x-python",
   "name": "python",
   "nbconvert_exporter": "python",
   "pygments_lexer": "ipython3",
   "version": "3.9.7"
  }
 },
 "nbformat": 4,
 "nbformat_minor": 4
}
