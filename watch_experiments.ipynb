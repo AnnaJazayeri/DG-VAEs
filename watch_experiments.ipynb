{
 "cells": [
  {
   "cell_type": "code",
   "execution_count": null,
   "metadata": {},
   "outputs": [],
   "source": [
    "from args_settings import select_args_specifications\n",
    "from load_and_test_models import experiments_evaluation_when_all_complete"
   ]
  },
  {
   "cell_type": "code",
   "execution_count": null,
   "metadata": {
    "tags": []
   },
   "outputs": [],
   "source": [
    "if __name__ == \"__main__\":\n",
    "    experiments_evaluation_when_all_complete(\n",
    "        select_args_specifications(\n",
    "            [\"restriction_or_weakened_kl\",\n",
    "             \"strategy_or_structure\",\n",
    "             \"kl_beta\",\"bn_gamma\",\"fb_target_kl\",\"agg_size\",\"vmf_kappa\"],\n",
    "            only_small=False\n",
    "        )\n",
    "    )"
   ]
  },
  {
   "cell_type": "code",
   "execution_count": null,
   "metadata": {},
   "outputs": [],
   "source": []
  }
 ],
 "metadata": {
  "kernelspec": {
   "display_name": "Python 3 (ipykernel)",
   "language": "python",
   "name": "python3"
  },
  "language_info": {
   "codemirror_mode": {
    "name": "ipython",
    "version": 3
   },
   "file_extension": ".py",
   "mimetype": "text/x-python",
   "name": "python",
   "nbconvert_exporter": "python",
   "pygments_lexer": "ipython3",
   "version": "3.9.7"
  }
 },
 "nbformat": 4,
 "nbformat_minor": 4
}
